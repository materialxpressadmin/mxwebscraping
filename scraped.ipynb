{
 "cells": [
  {
   "cell_type": "code",
   "execution_count": 3,
   "metadata": {},
   "outputs": [],
   "source": [
    "import requests\n",
    "from bs4 import BeautifulSoup"
   ]
  },
  {
   "cell_type": "code",
   "execution_count": 4,
   "metadata": {},
   "outputs": [
    {
     "name": "stdout",
     "output_type": "stream",
     "text": [
      "['/movie/Moon_Maidens-28741495', '/movie/Northern_Shade-13543898', '/movie/Tere_Layi-23742776', '/movie/Aborto-2729142', '/movie/Adbhoot-15562084', '/movie/Warsaw_A_City_Divided-10353252', '/movie/The_Foundation_Pit-11753722', '/movie/Aadavaallu_Meeku_Johaarlu-13349280', '/movie/Aakhri_Cheekh-259831', '/movie/Umran_Ch_Ki_Rakheya-15979440', '/movie/Akatanikitoi_erastes-252836', '/movie/River_Road-9015168', '/movie/Looney_Tunes_Rabbits_Run-4840666', '/movie/Kaadhalan-97416', '/movie/Knockouts_in_Lockdown-29519280', '/movie/The_Cake_General-6889032', '/movie/Devils_Pass-1905040', '/movie/Fragment_of_an_Empire-20232', '/movie/Burakku_naito_pardo-21434474', '/movie/Thirteen_Lives-12262116', '/movie/Luck-7214954', '/movie/Extinction_Patient_Zero-2273722', '/movie/Lakeboat-210149', '/movie/Darbys_Rangers-51519', '/movie/Mass_Appeal-87688', '/movie/Hard_Time_The_Premonition-169990', '/movie/The_Waiter-934981', '/movie/The_Great_Fight-1703147', '/movie/The_Password_Is_Courage-56335', '/movie/Mr_St_Nick-325849']\n"
     ]
    },
    {
     "ename": "UnicodeEncodeError",
     "evalue": "'charmap' codec can't encode character '\\u266a' in position 1259: character maps to <undefined>",
     "output_type": "error",
     "traceback": [
      "\u001b[1;31m---------------------------------------------------------------------------\u001b[0m",
      "\u001b[1;31mUnicodeEncodeError\u001b[0m                        Traceback (most recent call last)",
      "Cell \u001b[1;32mIn[4], line 66\u001b[0m\n\u001b[0;32m     61\u001b[0m transcript \u001b[38;5;241m=\u001b[39m transcript_my\u001b[38;5;241m.\u001b[39mget_text(strip\u001b[38;5;241m=\u001b[39m\u001b[38;5;28;01mTrue\u001b[39;00m, separator\u001b[38;5;241m=\u001b[39m\u001b[38;5;124m'\u001b[39m\u001b[38;5;124m \u001b[39m\u001b[38;5;124m'\u001b[39m)\n\u001b[0;32m     65\u001b[0m \u001b[38;5;28;01mwith\u001b[39;00m \u001b[38;5;28mopen\u001b[39m(\u001b[38;5;124mf\u001b[39m\u001b[38;5;124m'\u001b[39m\u001b[38;5;132;01m{\u001b[39;00mtitle\u001b[38;5;132;01m}\u001b[39;00m\u001b[38;5;124m.txt\u001b[39m\u001b[38;5;124m'\u001b[39m, \u001b[38;5;124m'\u001b[39m\u001b[38;5;124mw\u001b[39m\u001b[38;5;124m'\u001b[39m) \u001b[38;5;28;01mas\u001b[39;00m file:\n\u001b[1;32m---> 66\u001b[0m     \u001b[43mfile\u001b[49m\u001b[38;5;241;43m.\u001b[39;49m\u001b[43mwrite\u001b[49m\u001b[43m(\u001b[49m\u001b[43mtranscript\u001b[49m\u001b[43m)\u001b[49m\n",
      "File \u001b[1;32mc:\\Users\\Aved Debbarma\\AppData\\Local\\Programs\\Python\\Python312\\Lib\\encodings\\cp1252.py:19\u001b[0m, in \u001b[0;36mIncrementalEncoder.encode\u001b[1;34m(self, input, final)\u001b[0m\n\u001b[0;32m     18\u001b[0m \u001b[38;5;28;01mdef\u001b[39;00m \u001b[38;5;21mencode\u001b[39m(\u001b[38;5;28mself\u001b[39m, \u001b[38;5;28minput\u001b[39m, final\u001b[38;5;241m=\u001b[39m\u001b[38;5;28;01mFalse\u001b[39;00m):\n\u001b[1;32m---> 19\u001b[0m     \u001b[38;5;28;01mreturn\u001b[39;00m \u001b[43mcodecs\u001b[49m\u001b[38;5;241;43m.\u001b[39;49m\u001b[43mcharmap_encode\u001b[49m\u001b[43m(\u001b[49m\u001b[38;5;28;43minput\u001b[39;49m\u001b[43m,\u001b[49m\u001b[38;5;28;43mself\u001b[39;49m\u001b[38;5;241;43m.\u001b[39;49m\u001b[43merrors\u001b[49m\u001b[43m,\u001b[49m\u001b[43mencoding_table\u001b[49m\u001b[43m)\u001b[49m[\u001b[38;5;241m0\u001b[39m]\n",
      "\u001b[1;31mUnicodeEncodeError\u001b[0m: 'charmap' codec can't encode character '\\u266a' in position 1259: character maps to <undefined>"
     ]
    }
   ],
   "source": [
    "root = 'https://subslikescript.com'\n",
    "website = f'{root}/movies'\n",
    "result = requests.get(website)\n",
    "if result.status_code !=200:\n",
    "  print('Failed to retrieve the page')\n",
    "  exit()\n",
    "\n",
    "content = result.text\n",
    "\n",
    "soup = BeautifulSoup(content, 'lxml')\n",
    "\n",
    "\n",
    "box = soup.find('article', class_='main-article')\n",
    "if box is None:\n",
    "  print('Main artical not found')\n",
    "  exit()\n",
    "# ---------------------------------------------------------------\n",
    "\n",
    "links = []\n",
    "for link in box.find_all('a', href=True):\n",
    "  links.append(link['href'])\n",
    "\n",
    "print(links)\n",
    "\n",
    "for link in links:\n",
    "  website = f'{root}/{link}'\n",
    "  result = requests.get(website)\n",
    "\n",
    "  if result.status_code != 200:\n",
    "    print(f'Failed to retrieve the page: {result.status_code}')\n",
    "    continue\n",
    "\n",
    "\n",
    "  content = result.text\n",
    "  soup = BeautifulSoup(content, 'lxml')\n",
    "\n",
    "  box = soup.find('article', class_='main-article')\n",
    "  box = soup.find('article', class_='main-article')\n",
    "  if box is None:\n",
    "    print('Main artical not found')\n",
    "    continue\n",
    "\n",
    "  title_my = box.find('h1')\n",
    "  transcript_my = box.find('div', class_='full-script')\n",
    "\n",
    "  if title_my is None or transcript_my is None:\n",
    "    print('Title or transcript not found')\n",
    "    continue\n",
    "  transcript_my = box.find('div', class_='full-script')\n",
    "\n",
    "\n",
    "\n",
    "\n",
    "  if title_my is None or transcript_my is None:\n",
    "        print(\"Title or transcript not found\")\n",
    "        continue\n",
    "\n",
    "\n",
    "\n",
    "  title = title_my.get_text()\n",
    "  transcript = transcript_my.get_text(strip=True, separator=' ')\n",
    "\n",
    "\n",
    "\n",
    "  with open(f'{title}.txt', 'w') as file:\n",
    "      file.write(transcript)\n"
   ]
  }
 ],
 "metadata": {
  "kernelspec": {
   "display_name": "Python 3",
   "language": "python",
   "name": "python3"
  },
  "language_info": {
   "codemirror_mode": {
    "name": "ipython",
    "version": 3
   },
   "file_extension": ".py",
   "mimetype": "text/x-python",
   "name": "python",
   "nbconvert_exporter": "python",
   "pygments_lexer": "ipython3",
   "version": "3.12.5"
  }
 },
 "nbformat": 4,
 "nbformat_minor": 2
}
