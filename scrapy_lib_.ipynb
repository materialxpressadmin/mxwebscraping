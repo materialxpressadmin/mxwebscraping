{
 "cells": [
  {
   "cell_type": "code",
   "execution_count": 1,
   "metadata": {},
   "outputs": [
    {
     "ename": "ModuleNotFoundError",
     "evalue": "No module named 'scrapy'",
     "output_type": "error",
     "traceback": [
      "\u001b[1;31m---------------------------------------------------------------------------\u001b[0m",
      "\u001b[1;31mModuleNotFoundError\u001b[0m                       Traceback (most recent call last)",
      "Cell \u001b[1;32mIn[1], line 1\u001b[0m\n\u001b[1;32m----> 1\u001b[0m \u001b[38;5;28;01mimport\u001b[39;00m \u001b[38;5;21;01mscrapy\u001b[39;00m\n\u001b[0;32m      4\u001b[0m \u001b[38;5;28;01mclass\u001b[39;00m \u001b[38;5;21;01mWorldMeterSpider\u001b[39;00m(scrapy\u001b[38;5;241m.\u001b[39mSpider):\n\u001b[0;32m      5\u001b[0m     name \u001b[38;5;241m=\u001b[39m \u001b[38;5;124m\"\u001b[39m\u001b[38;5;124mworld_meter\u001b[39m\u001b[38;5;124m\"\u001b[39m\n",
      "\u001b[1;31mModuleNotFoundError\u001b[0m: No module named 'scrapy'"
     ]
    }
   ],
   "source": [
    "\n",
    "import scrapy\n",
    "\n",
    "class WorldMeterSpider(scrapy.Spider):\n",
    "    name = \"world_meter\"\n",
    "    allowed_domains = [\"www.worldometers.info\"]\n",
    "    start_urls = [\"https://www.worldometers.info/world-population/population-by-country/#google_vignette\"]\n",
    "\n",
    "    def parse(self, response):\n",
    "        title = response.xpath('//h1/text()').get()\n",
    "        countries = response.xpath('//td/a')\n",
    "\n",
    "        for country in countries:\n",
    "            country_name = country.xpath(\".//text()\").get()\n",
    "            link = country.xpath(\".//@href\").get()\n",
    "\n",
    "            absolute_url = response.urljoin(link)\n",
    "\n",
    "            yield response.follow(\n",
    "                url=link,\n",
    "                callback=self.parse_country,\n",
    "                meta={'country': country_name}\n",
    "            )\n",
    "\n",
    "    def parse_country(self, response):\n",
    "        country = response.request.meta['country']\n",
    "        rows = response.xpath(\n",
    "            '(//table[@class=\"table table-striped table-bordered table-hover table-condensed table-list\"])[1]/tbody/tr'\n",
    "        )\n",
    "\n",
    "        for row in rows:\n",
    "            year = row.xpath(\".//td[1]/text()\").get()\n",
    "            population = row.xpath(\".//td[2]/text()\").get()\n",
    "\n",
    "            yield {\n",
    "                'country': country,\n",
    "                'year': year,\n",
    "                'population': population,\n",
    "            }\n",
    "\n"
   ]
  }
 ],
 "metadata": {
  "kernelspec": {
   "display_name": "Python 3",
   "language": "python",
   "name": "python3"
  },
  "language_info": {
   "codemirror_mode": {
    "name": "ipython",
    "version": 3
   },
   "file_extension": ".py",
   "mimetype": "text/x-python",
   "name": "python",
   "nbconvert_exporter": "python",
   "pygments_lexer": "ipython3",
   "version": "3.12.5"
  }
 },
 "nbformat": 4,
 "nbformat_minor": 2
}
