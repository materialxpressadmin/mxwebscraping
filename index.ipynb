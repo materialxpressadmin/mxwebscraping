{
 "cells": [
  {
   "cell_type": "code",
   "execution_count": 1,
   "metadata": {},
   "outputs": [
    {
     "name": "stdout",
     "output_type": "stream",
     "text": [
      "Defaulting to user installation because normal site-packages is not writeable\n",
      "Requirement already satisfied: autoscraper in c:\\users\\sam\\appdata\\roaming\\python\\python312\\site-packages (1.1.14)\n",
      "Requirement already satisfied: requests in c:\\users\\sam\\appdata\\roaming\\python\\python312\\site-packages (from autoscraper) (2.32.3)\n",
      "Requirement already satisfied: bs4 in c:\\users\\sam\\appdata\\roaming\\python\\python312\\site-packages (from autoscraper) (0.0.2)\n",
      "Requirement already satisfied: lxml in c:\\users\\sam\\appdata\\roaming\\python\\python312\\site-packages (from autoscraper) (5.2.2)\n",
      "Requirement already satisfied: beautifulsoup4 in c:\\users\\sam\\appdata\\roaming\\python\\python312\\site-packages (from bs4->autoscraper) (4.12.3)\n",
      "Requirement already satisfied: charset-normalizer<4,>=2 in c:\\users\\sam\\appdata\\roaming\\python\\python312\\site-packages (from requests->autoscraper) (3.3.2)\n",
      "Requirement already satisfied: idna<4,>=2.5 in c:\\users\\sam\\appdata\\roaming\\python\\python312\\site-packages (from requests->autoscraper) (3.7)\n",
      "Requirement already satisfied: urllib3<3,>=1.21.1 in c:\\users\\sam\\appdata\\roaming\\python\\python312\\site-packages (from requests->autoscraper) (2.2.2)\n",
      "Requirement already satisfied: certifi>=2017.4.17 in c:\\users\\sam\\appdata\\roaming\\python\\python312\\site-packages (from requests->autoscraper) (2024.7.4)\n",
      "Requirement already satisfied: soupsieve>1.2 in c:\\users\\sam\\appdata\\roaming\\python\\python312\\site-packages (from beautifulsoup4->bs4->autoscraper) (2.5)\n"
     ]
    }
   ],
   "source": [
    "! pip install autoscraper"
   ]
  },
  {
   "cell_type": "code",
   "execution_count": 2,
   "metadata": {},
   "outputs": [],
   "source": [
    "from autoscraper import AutoScraper"
   ]
  },
  {
   "cell_type": "code",
   "execution_count": 3,
   "metadata": {},
   "outputs": [],
   "source": [
    "\n",
    "website_url = \"https://www.homedepot.ca/en/home/categories/building-materials/decking/deck-boards.html\"\n",
    "content_list = [\"Trex 12 Ft- Enhance Natural Composite Grooved Decking Board -Rocky Harbor 1 In. x 6 In\", \"(204)\", \"$59And 04Cents / each\" ]"
   ]
  },
  {
   "cell_type": "code",
   "execution_count": 4,
   "metadata": {},
   "outputs": [
    {
     "name": "stdout",
     "output_type": "stream",
     "text": [
      "https://www.homedepot.ca/en/home/categories/building-materials/decking/deck-boards.html\n"
     ]
    }
   ],
   "source": [
    "r = website_url\n",
    "print(r)"
   ]
  },
  {
   "cell_type": "code",
   "execution_count": 5,
   "metadata": {},
   "outputs": [],
   "source": [
    "scraper = AutoScraper()\n",
    "result = scraper.build(website_url,content_list)\n",
    "print(result)\n",
    "print(type(result))"
   ]
  },
  {
   "cell_type": "code",
   "execution_count": null,
   "metadata": {},
   "outputs": [
    {
     "name": "stdout",
     "output_type": "stream",
     "text": [
      "Trex 12 Ft- Enhance Natural Composite Grooved Decking Board -Rocky Harbor 1 In. x 6 In\n",
      "Veranda 12 ft. - Composite Capped Grooved Decking Board - Alpine - 1-Inch x 6-Inch\n",
      "Trex 16 ft. - Enhance Basics Composite Grooved Decking Board Clam Shell 1 In. x 6 In\n",
      "Veranda 16 Feet- Composite Solid Decking Board - Alpine - 1 In. x 6 In.\n",
      "Deckorators Sample Vista Driftwood Decking Board Grooved 6-inch x 12-inch\n",
      "Trex 8-Feet-Enhance Natural Composite Square Decking Board -Rocky Harbor 1 In. x 6 In\n",
      "Trex 16 ft. - Enhance Basics Composite Square Decking Board Clam Shell 1 In. x 6 In\n",
      "TimberTech 12 ft - Classic Composite Solid Deck Board Brown 1 In x 6 In\n",
      "Trex 12 ft. - Select Composite Grooved Decking Board Pebble Grey - 1 In. x 6 In.\n",
      "Fortress Infinity IS 1 in. x 6 in. x 8 ft. Tiger Cove Brown Composite Square Deck Boards (2-Pack)\n",
      "TimberTech 16 ft - Classic Composite Grooved Deck Board Brown 1 In x 6 In\n",
      "Trex 16 ft. - Select Composite Square Decking Board Pebble Grey - 1 In. x 6 In.\n",
      "Trex 16 ft. - Transcend Tropical Composite Square Decking Board Spiced Rum - 1 In. x 6 In.\n",
      "Deckorators 12 ft. Pioneer Composite Capped Grooved Decking Board - Timberline Brown - 1-inch x 6-inch\n",
      "Trex 12 ft. - Enhance Basics Composite Fascia Clam Shell - 1 In. x 8 In.\n",
      "Trex 12 ft. - Transcend Tropical Composite Grooved Decking Board Island Mist - 1 In. x 6 In.\n",
      "Trex 16 ft. - Enhance Natural Composite Square Decking Board Foggy Wharf 1 In. x 6 In\n",
      "Fortress Infinity IS 1 in. x 6 in. x 8 ft. Tiger Cove Brown Composite Starter Deck Boards (2-Pack)\n",
      "Veranda 12 feet. - Composite Fascia Board - Meadow- 1/2 In. x 11 1/4 In.\n",
      "Trex 16 ft. - Select Composite Square Decking Board Saddle - 2 In. x 6 In.\n",
      "(204)\n",
      "(8)\n",
      "(107)\n",
      "(235)\n",
      "(64)\n",
      "(18)\n",
      "(80)\n",
      "(6)\n",
      "(15)\n",
      "(44)\n",
      "(10)\n",
      "(9)\n",
      "(87)\n",
      "(47)\n",
      "(1)\n",
      "(2)\n"
     ]
    }
   ],
   "source": [
    "for i in result:\n",
    "    print(i)"
   ]
  },
  {
   "cell_type": "code",
   "execution_count": null,
   "metadata": {},
   "outputs": [],
   "source": []
  }
 ],
 "metadata": {
  "kernelspec": {
   "display_name": "Python 3",
   "language": "python",
   "name": "python3"
  },
  "language_info": {
   "codemirror_mode": {
    "name": "ipython",
    "version": 3
   },
   "file_extension": ".py",
   "mimetype": "text/x-python",
   "name": "python",
   "nbconvert_exporter": "python",
   "pygments_lexer": "ipython3",
   "version": "3.12.3"
  }
 },
 "nbformat": 4,
 "nbformat_minor": 2
}
