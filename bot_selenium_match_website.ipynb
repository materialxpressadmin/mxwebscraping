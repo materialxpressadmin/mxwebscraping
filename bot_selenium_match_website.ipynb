{
 "cells": [
  {
   "cell_type": "code",
   "execution_count": 2,
   "id": "db332112-5554-4ec7-90a5-95ac70503a8e",
   "metadata": {},
   "outputs": [],
   "source": [
    "#this is where you need to download chromedriver extentions \n",
    "# link below for windows 64 \n",
    "# https://storage.googleapis.com/chrome-for-testing-public/128.0.6613.84/win64/chromedriver-win64.zip\n",
    "\n",
    "# for mac m1 & m2 \n",
    "# https://storage.googleapis.com/chrome-for-testing-public/128.0.6613.84/mac-arm64/chromedriver-mac-arm64.zip"
   ]
  },
  {
   "cell_type": "code",
   "execution_count": 3,
   "id": "98384375-a822-4ce6-a300-3ae762e4f1c3",
   "metadata": {},
   "outputs": [
    {
     "ename": "ModuleNotFoundError",
     "evalue": "No module named 'selenum'",
     "output_type": "error",
     "traceback": [
      "\u001b[1;31m---------------------------------------------------------------------------\u001b[0m",
      "\u001b[1;31mModuleNotFoundError\u001b[0m                       Traceback (most recent call last)",
      "Cell \u001b[1;32mIn[3], line 4\u001b[0m\n\u001b[0;32m      2\u001b[0m \u001b[38;5;28;01mfrom\u001b[39;00m \u001b[38;5;21;01mselenium\u001b[39;00m\u001b[38;5;21;01m.\u001b[39;00m\u001b[38;5;21;01mwebdriver\u001b[39;00m\u001b[38;5;21;01m.\u001b[39;00m\u001b[38;5;21;01mchrome\u001b[39;00m\u001b[38;5;21;01m.\u001b[39;00m\u001b[38;5;21;01mservice\u001b[39;00m \u001b[38;5;28;01mimport\u001b[39;00m Service\n\u001b[0;32m      3\u001b[0m \u001b[38;5;28;01mfrom\u001b[39;00m \u001b[38;5;21;01mselenium\u001b[39;00m\u001b[38;5;21;01m.\u001b[39;00m\u001b[38;5;21;01mwebdriver\u001b[39;00m\u001b[38;5;21;01m.\u001b[39;00m\u001b[38;5;21;01msupport\u001b[39;00m\u001b[38;5;21;01m.\u001b[39;00m\u001b[38;5;21;01mui\u001b[39;00m \u001b[38;5;28;01mimport\u001b[39;00m Select\n\u001b[1;32m----> 4\u001b[0m \u001b[38;5;28;01mfrom\u001b[39;00m \u001b[38;5;21;01mselenum\u001b[39;00m\u001b[38;5;21;01m.\u001b[39;00m\u001b[38;5;21;01mwebdriver\u001b[39;00m\u001b[38;5;21;01m.\u001b[39;00m\u001b[38;5;21;01mchrome\u001b[39;00m\u001b[38;5;21;01m.\u001b[39;00m\u001b[38;5;21;01moptions\u001b[39;00m \u001b[38;5;28;01mimport\u001b[39;00m Options \u001b[38;5;66;03m# changes done in this line\u001b[39;00m\n\u001b[0;32m      5\u001b[0m \u001b[38;5;28;01mfrom\u001b[39;00m \u001b[38;5;21;01mselenium\u001b[39;00m\u001b[38;5;21;01m.\u001b[39;00m\u001b[38;5;21;01mwebdriver\u001b[39;00m\u001b[38;5;21;01m.\u001b[39;00m\u001b[38;5;21;01mcommon\u001b[39;00m\u001b[38;5;21;01m.\u001b[39;00m\u001b[38;5;21;01mby\u001b[39;00m \u001b[38;5;28;01mimport\u001b[39;00m By\n\u001b[0;32m      6\u001b[0m \u001b[38;5;28;01mimport\u001b[39;00m \u001b[38;5;21;01mpandas\u001b[39;00m \u001b[38;5;28;01mas\u001b[39;00m \u001b[38;5;21;01mpd\u001b[39;00m\n",
      "\u001b[1;31mModuleNotFoundError\u001b[0m: No module named 'selenum'"
     ]
    }
   ],
   "source": [
    "from selenium import webdriver\n",
    "from selenium.webdriver.chrome.service import Service\n",
    "from selenium.webdriver.support.ui import Select\n",
    "from selenum.webdriver.chrome.options import Options # changes done in this line\n",
    "from selenium.webdriver.common.by import By\n",
    "import pandas as pd\n",
    "import time\n"
   ]
  },
  {
   "cell_type": "code",
   "execution_count": 4,
   "id": "f826107e-ddfe-4a93-b1af-2b1ade18c33f",
   "metadata": {},
   "outputs": [
    {
     "ename": "NameError",
     "evalue": "name 'Options' is not defined",
     "output_type": "error",
     "traceback": [
      "\u001b[1;31m---------------------------------------------------------------------------\u001b[0m",
      "\u001b[1;31mNameError\u001b[0m                                 Traceback (most recent call last)",
      "Cell \u001b[1;32mIn[4], line 4\u001b[0m\n\u001b[0;32m      1\u001b[0m \u001b[38;5;66;03m# define the website to scrape and path where the chromediver is located\u001b[39;00m\n\u001b[0;32m      2\u001b[0m \n\u001b[0;32m      3\u001b[0m \u001b[38;5;66;03m#new code 21-aug add\u001b[39;00m\n\u001b[1;32m----> 4\u001b[0m options \u001b[38;5;241m=\u001b[39m \u001b[43mOptions\u001b[49m()\n\u001b[0;32m      5\u001b[0m options\u001b[38;5;241m.\u001b[39mheadless \u001b[38;5;241m=\u001b[39m \u001b[38;5;28;01mTrue\u001b[39;00m\n\u001b[0;32m      6\u001b[0m options\u001b[38;5;241m.\u001b[39madd_argument(\u001b[38;5;124m'\u001b[39m\u001b[38;5;124mwindow-size = 1920*1080\u001b[39m\u001b[38;5;124m'\u001b[39m)\n",
      "\u001b[1;31mNameError\u001b[0m: name 'Options' is not defined"
     ]
    }
   ],
   "source": [
    "# define the website to scrape and path where the chromediver is located\n",
    "\n",
    "#new code 21-aug add\n",
    "options = Options()\n",
    "options.headless = True\n",
    "options.add_argument('window-size = 1920*1080')\n",
    "\n",
    "\n",
    "website = 'https://www.adamchoi.co.uk/overs/detailed'\n",
    "path = r'C:\\Users\\Aved Debbarma\\Downloads\\chromedriver\\chromedriver-win64\\chromedriver.exe' #right and working path \n",
    "\n",
    "service = Service(executable_path=path)  # selenium 4\n",
    "driver = webdriver.Chrome(service=service)  # define 'driver' variable\n",
    "# open Google Chrome with chromedriver\n",
    "driver.get(website)"
   ]
  },
  {
   "cell_type": "code",
   "execution_count": 5,
   "id": "8e3c864f-3bf7-4c09-be7a-b3d358f478f7",
   "metadata": {},
   "outputs": [
    {
     "ename": "NameError",
     "evalue": "name 'driver' is not defined",
     "output_type": "error",
     "traceback": [
      "\u001b[1;31m---------------------------------------------------------------------------\u001b[0m",
      "\u001b[1;31mNameError\u001b[0m                                 Traceback (most recent call last)",
      "Cell \u001b[1;32mIn[5], line 1\u001b[0m\n\u001b[1;32m----> 1\u001b[0m all_matches_button \u001b[38;5;241m=\u001b[39m \u001b[43mdriver\u001b[49m\u001b[38;5;241m.\u001b[39mfind_element(by\u001b[38;5;241m=\u001b[39m\u001b[38;5;124m'\u001b[39m\u001b[38;5;124mxpath\u001b[39m\u001b[38;5;124m'\u001b[39m, value\u001b[38;5;241m=\u001b[39m\u001b[38;5;124m'\u001b[39m\u001b[38;5;124m//label[@analytics-event=\u001b[39m\u001b[38;5;124m\"\u001b[39m\u001b[38;5;124mAll matches\u001b[39m\u001b[38;5;124m\"\u001b[39m\u001b[38;5;124m]\u001b[39m\u001b[38;5;124m'\u001b[39m)\n\u001b[0;32m      2\u001b[0m all_matches_button\u001b[38;5;241m.\u001b[39mclick()\n\u001b[0;32m      3\u001b[0m dropdown \u001b[38;5;241m=\u001b[39m Select(driver\u001b[38;5;241m.\u001b[39mfind_element(by\u001b[38;5;241m=\u001b[39m\u001b[38;5;124m'\u001b[39m\u001b[38;5;124mid\u001b[39m\u001b[38;5;124m'\u001b[39m, value\u001b[38;5;241m=\u001b[39m\u001b[38;5;124m'\u001b[39m\u001b[38;5;124mcountry\u001b[39m\u001b[38;5;124m'\u001b[39m))\n",
      "\u001b[1;31mNameError\u001b[0m: name 'driver' is not defined"
     ]
    }
   ],
   "source": [
    "all_matches_button = driver.find_element(by='xpath', value='//label[@analytics-event=\"All matches\"]')\n",
    "all_matches_button.click()\n",
    "dropdown = Select(driver.find_element(by='id', value='country'))\n",
    "dropdown.select_by_visible_text('Spain')\n",
    "\n",
    "\n",
    "time.sleep(3)\n",
    "\n",
    "matches = driver.find_elements(by='xpath', value='//tr')"
   ]
  },
  {
   "cell_type": "code",
   "execution_count": 6,
   "id": "6bb43560-7615-4941-ac6d-8a389ece4c55",
   "metadata": {},
   "outputs": [],
   "source": [
    "# storage data in lists\n",
    "date = []\n",
    "home_team = []\n",
    "score = []\n",
    "away_team = []\n"
   ]
  },
  {
   "cell_type": "code",
   "execution_count": 7,
   "id": "ec02ae82-5c4e-4d0c-85f0-da2ffa67424d",
   "metadata": {},
   "outputs": [
    {
     "ename": "NameError",
     "evalue": "name 'matches' is not defined",
     "output_type": "error",
     "traceback": [
      "\u001b[1;31m---------------------------------------------------------------------------\u001b[0m",
      "\u001b[1;31mNameError\u001b[0m                                 Traceback (most recent call last)",
      "Cell \u001b[1;32mIn[7], line 1\u001b[0m\n\u001b[1;32m----> 1\u001b[0m \u001b[38;5;28;01mfor\u001b[39;00m match \u001b[38;5;129;01min\u001b[39;00m \u001b[43mmatches\u001b[49m:\n\u001b[0;32m      2\u001b[0m     \u001b[38;5;66;03m# Handle exceptions if elements are not found\u001b[39;00m\n\u001b[0;32m      3\u001b[0m     \u001b[38;5;28;01mtry\u001b[39;00m:\n\u001b[0;32m      4\u001b[0m         date\u001b[38;5;241m.\u001b[39mappend(match\u001b[38;5;241m.\u001b[39mfind_element(By\u001b[38;5;241m.\u001b[39mXPATH, \u001b[38;5;124m'\u001b[39m\u001b[38;5;124m./td[1]\u001b[39m\u001b[38;5;124m'\u001b[39m)\u001b[38;5;241m.\u001b[39mtext)\n",
      "\u001b[1;31mNameError\u001b[0m: name 'matches' is not defined"
     ]
    }
   ],
   "source": [
    "for match in matches:\n",
    "    # Handle exceptions if elements are not found\n",
    "    try:\n",
    "        date.append(match.find_element(By.XPATH, './td[1]').text)\n",
    "        home = match.find_element(By.XPATH, './td[2]').text\n",
    "        home_team.append(home)\n",
    "        print(home)\n",
    "        score.append(match.find_element(By.XPATH, './td[3]').text)\n",
    "        away_team.append(match.find_element(By.XPATH, './td[4]').text)\n",
    "    except Exception as e:\n",
    "        print(f\"Error processing match: {e}\")\n",
    "\n",
    "\n",
    "#  Dataframe in Pandas and export to CSV (Excel)\n",
    "df = pd.DataFrame({'date': date, 'home_team': home_team, 'score': score, 'away_team': away_team})\n",
    "df.to_csv('football_data.csv', index=False)\n",
    "print(df)\n"
   ]
  },
  {
   "cell_type": "code",
   "execution_count": null,
   "id": "f82761a6-336e-43dc-91f0-0b9382ade98c",
   "metadata": {},
   "outputs": [],
   "source": []
  },
  {
   "cell_type": "code",
   "execution_count": 8,
   "id": "a3681323-5bc0-449a-bc4d-000fa4dd10f7",
   "metadata": {
    "jupyter": {
     "source_hidden": true
    }
   },
   "outputs": [],
   "source": [
    "for d in date:\n",
    "    print(d)"
   ]
  },
  {
   "cell_type": "code",
   "execution_count": 9,
   "id": "9f2f13c6-319e-4df0-be43-0e1348757684",
   "metadata": {},
   "outputs": [
    {
     "name": "stdout",
     "output_type": "stream",
     "text": [
      "[]\n"
     ]
    }
   ],
   "source": [
    "# storage data in lists\n",
    "\n",
    "print(home_team) \n"
   ]
  },
  {
   "cell_type": "code",
   "execution_count": 10,
   "id": "2ce674ff-9e5f-4d78-abcb-87ba6845f071",
   "metadata": {},
   "outputs": [
    {
     "name": "stdout",
     "output_type": "stream",
     "text": [
      "[]\n"
     ]
    }
   ],
   "source": [
    "print(away_team)"
   ]
  },
  {
   "cell_type": "code",
   "execution_count": 11,
   "id": "06fb9c41-d616-4fb8-83bb-33602b32cee6",
   "metadata": {},
   "outputs": [
    {
     "name": "stdout",
     "output_type": "stream",
     "text": [
      "[]\n"
     ]
    }
   ],
   "source": [
    "print (score)"
   ]
  },
  {
   "cell_type": "code",
   "execution_count": null,
   "id": "d946b12a-5a37-46b5-bdac-41a80f7db19b",
   "metadata": {},
   "outputs": [],
   "source": []
  }
 ],
 "metadata": {
  "kernelspec": {
   "display_name": "Python 3 (ipykernel)",
   "language": "python",
   "name": "python3"
  },
  "language_info": {
   "codemirror_mode": {
    "name": "ipython",
    "version": 3
   },
   "file_extension": ".py",
   "mimetype": "text/x-python",
   "name": "python",
   "nbconvert_exporter": "python",
   "pygments_lexer": "ipython3",
   "version": "3.12.5"
  }
 },
 "nbformat": 4,
 "nbformat_minor": 5
}
