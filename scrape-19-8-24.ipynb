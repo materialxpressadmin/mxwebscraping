{
 "cells": [
  {
   "cell_type": "code",
   "execution_count": 13,
   "id": "bdccf2bf-2393-4f1d-b6eb-b619eba8bddf",
   "metadata": {},
   "outputs": [],
   "source": [
    " #paginations work"
   ]
  },
  {
   "cell_type": "code",
   "execution_count": 14,
   "id": "75b905c2-e57c-4033-a057-742b251ee975",
   "metadata": {},
   "outputs": [],
   "source": [
    "from selenium import webdriver\n",
    "\n",
    "from selenium.webdriver.chrome.service import Service\n",
    "from selenium.webdriver.support.ui import Select\n",
    "from selenium.webdriver.chrome.options import Options  # changes done in this line\n",
    "from selenium.webdriver.common.by import By\n",
    "import pandas as pd\n",
    "import time\n"
   ]
  },
  {
   "cell_type": "code",
   "execution_count": 15,
   "id": "faa39845-758d-46b7-b518-b7e3cc7b30f6",
   "metadata": {},
   "outputs": [
    {
     "ename": "NameError",
     "evalue": "name 'option' is not defined",
     "output_type": "error",
     "traceback": [
      "\u001b[1;31m---------------------------------------------------------------------------\u001b[0m",
      "\u001b[1;31mNameError\u001b[0m                                 Traceback (most recent call last)",
      "Cell \u001b[1;32mIn[15], line 3\u001b[0m\n\u001b[0;32m      1\u001b[0m \u001b[38;5;66;03m#add new code here > option sections\u001b[39;00m\n\u001b[0;32m      2\u001b[0m options \u001b[38;5;241m=\u001b[39m Options()\n\u001b[1;32m----> 3\u001b[0m \u001b[43moption\u001b[49m\u001b[38;5;241m.\u001b[39mheadless \u001b[38;5;241m=\u001b[39m \u001b[38;5;28;01mTrue\u001b[39;00m\n\u001b[0;32m      4\u001b[0m options\u001b[38;5;241m.\u001b[39madd_argument(\u001b[38;5;124m'\u001b[39m\u001b[38;5;124mwindow-size= 1920x1080\u001b[39m\u001b[38;5;124m'\u001b[39m)\n\u001b[0;32m      6\u001b[0m web \u001b[38;5;241m=\u001b[39m \u001b[38;5;124m'\u001b[39m\u001b[38;5;124mhttps\u001b[39m\u001b[38;5;124m\"\u001b[39m\u001b[38;5;124m//audible.com/search\u001b[39m\u001b[38;5;124m'\u001b[39m\n",
      "\u001b[1;31mNameError\u001b[0m: name 'option' is not defined"
     ]
    }
   ],
   "source": [
    "#add new code here > option sections\n",
    "options = Options()\n",
    "option.headless = True\n",
    "options.add_argument('window-size= 1920x1080')\n",
    "\n",
    "web = 'https\"//audible.com/search'\n",
    "driver_path = r'C:\\Users\\Aved Debbarma\\Downloads\\chromedriver\\chromedriver-win64\\chromedriver.exe'\n",
    "service = Service(driver_path)\n",
    "driver = webdriver.Chrome(service, options = options) \n",
    "driver.get('https://www.audible.com/search')\n",
    "#driver.maximize_window() ----------------# this is old code replaced by <driver = webdriver.Chrome(service, options = options) >\n",
    "\n",
    "\n",
    "\n",
    "container = driver.find_element(By.NAME, 'wm-sparkline-canvas')\n",
    "\n",
    "wait = WebDriverWait(driver, 10)\n",
    "container = wait.until(EC.presence_of_element_located((By.NAME, 'wm-sparkline-canvas')))\n",
    "\n",
    "\n",
    "\n",
    "products = container.find_elements(By.XPATH, './li')\n",
    "\n",
    "# Lists to store book details\n",
    "book_title = []\n",
    "author = []\n",
    "book_length = []\n",
    "\n",
    "# Extract details from each product\n",
    "for product in products:\n",
    "    titles = product.find_element(By.XPATH, './/h3[contains(@class, \"bc-heading\")]').text\n",
    "    book_title.append(titles)\n",
    "    print(titles)\n",
    "    author.append(product.find_element(By.XPATH, './/li[contains(@class, \"authorLabel\")]').text)\n",
    "    book_length.append(product.find_element(By.XPATH, './/li[contains(@class, \"runtimeLabel\")]').text)\n",
    "\n",
    "# Quit the WebDriver instance\n",
    "driver.quit()\n",
    "\n",
    "# Create a DataFrame and save to CSV\n",
    "df_book = pd.DataFrame({\n",
    "    'Title': book_title,\n",
    "    'Author': author,\n",
    "    'Book Length': book_length\n",
    "})\n",
    "df_book.to_csv('books.csv', index=False)\n"
   ]
  },
  {
   "cell_type": "code",
   "execution_count": null,
   "id": "ac6f2716-0256-4468-8e6f-498d99d115e0",
   "metadata": {},
   "outputs": [],
   "source": []
  },
  {
   "cell_type": "code",
   "execution_count": null,
   "id": "809f3302-c77e-4fc3-b3ac-0a9e37ad76ad",
   "metadata": {},
   "outputs": [],
   "source": []
  },
  {
   "cell_type": "code",
   "execution_count": null,
   "id": "b48524af-223d-4a87-9624-fff65b8b04b2",
   "metadata": {},
   "outputs": [],
   "source": [
    "print(book_length)\n"
   ]
  },
  {
   "cell_type": "code",
   "execution_count": null,
   "id": "45ad8d60-2e82-4909-af56-3d2fe9b15205",
   "metadata": {},
   "outputs": [],
   "source": []
  }
 ],
 "metadata": {
  "kernelspec": {
   "display_name": "Python 3 (ipykernel)",
   "language": "python",
   "name": "python3"
  },
  "language_info": {
   "codemirror_mode": {
    "name": "ipython",
    "version": 3
   },
   "file_extension": ".py",
   "mimetype": "text/x-python",
   "name": "python",
   "nbconvert_exporter": "python",
   "pygments_lexer": "ipython3",
   "version": "3.12.5"
  }
 },
 "nbformat": 4,
 "nbformat_minor": 5
}
