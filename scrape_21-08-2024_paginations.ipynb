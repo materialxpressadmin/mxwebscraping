{
 "cells": [
  {
   "cell_type": "code",
   "execution_count": 3,
   "id": "43fc5fe1-6fa8-4e70-b6ca-4ded5800e163",
   "metadata": {},
   "outputs": [],
   "source": [
    "# This file is for scraping multiple pages using Selenium & more libraries and tools\n",
    "# Title >  Scraping multiples pages data \n"
   ]
  },
  {
   "cell_type": "markdown",
   "id": "c45e8c0c-c2b3-4f44-b523-8f2751a4234c",
   "metadata": {},
   "source": [
    "# Note book   1 "
   ]
  },
  {
   "cell_type": "code",
   "execution_count": 4,
   "id": "07291de7-1aba-44d2-9592-0d6548d3c360",
   "metadata": {},
   "outputs": [
    {
     "ename": "TypeError",
     "evalue": "WebDriver.__init__() got multiple values for argument 'options'",
     "output_type": "error",
     "traceback": [
      "\u001b[1;31m---------------------------------------------------------------------------\u001b[0m",
      "\u001b[1;31mTypeError\u001b[0m                                 Traceback (most recent call last)",
      "Cell \u001b[1;32mIn[4], line 22\u001b[0m\n\u001b[0;32m     20\u001b[0m \u001b[38;5;66;03m# web = \"https://www.audible.com/search\"\u001b[39;00m\n\u001b[0;32m     21\u001b[0m path \u001b[38;5;241m=\u001b[39m \u001b[38;5;124mr\u001b[39m\u001b[38;5;124m'\u001b[39m\u001b[38;5;124mC:\u001b[39m\u001b[38;5;124m\\\u001b[39m\u001b[38;5;124mUsers\u001b[39m\u001b[38;5;124m\\\u001b[39m\u001b[38;5;124mAved Debbarma\u001b[39m\u001b[38;5;124m\\\u001b[39m\u001b[38;5;124mDownloads\u001b[39m\u001b[38;5;124m\\\u001b[39m\u001b[38;5;124mchromedriver\u001b[39m\u001b[38;5;124m\\\u001b[39m\u001b[38;5;124mchromedriver-win64\u001b[39m\u001b[38;5;124m\\\u001b[39m\u001b[38;5;124mchromedriver.exe\u001b[39m\u001b[38;5;124m'\u001b[39m\n\u001b[1;32m---> 22\u001b[0m driver \u001b[38;5;241m=\u001b[39m \u001b[43mwebdriver\u001b[49m\u001b[38;5;241;43m.\u001b[39;49m\u001b[43mChrome\u001b[49m\u001b[43m(\u001b[49m\u001b[43mpath\u001b[49m\u001b[43m,\u001b[49m\u001b[43m \u001b[49m\u001b[43moptions\u001b[49m\u001b[43m \u001b[49m\u001b[38;5;241;43m=\u001b[39;49m\u001b[43m \u001b[49m\u001b[43moptions\u001b[49m\u001b[43m)\u001b[49m\n\u001b[0;32m     23\u001b[0m driver\u001b[38;5;241m.\u001b[39mget(web)\n\u001b[0;32m     24\u001b[0m driver\u001b[38;5;241m.\u001b[39mmaximize_window()\n",
      "\u001b[1;31mTypeError\u001b[0m: WebDriver.__init__() got multiple values for argument 'options'"
     ]
    }
   ],
   "source": [
    "# from selenium import webdriver\n",
    "# import pandas as pd\n",
    "# import time\n",
    "\n",
    "from selenium import webdriver\n",
    "from selenium.webdriver.chrome.service import Service\n",
    "from selenium.webdriver.support.ui import Select\n",
    "from selenium.webdriver.chrome.options import Options \n",
    "from selenium.webdriver.common.by import By\n",
    "import pandas as pd\n",
    "import time\n",
    "\n",
    "\n",
    "\n",
    "\n",
    "options = Options()\n",
    "options.headless = False\n",
    "web = \"https://www.audible.com/adblbestsellers?ref=a_search_t1_navTop_pl0cg1c0r0&pf_rd_p=adc4b13b-d074-4e1c-ac46-9f54aa53072b&pf_rd_r=1F7DV0MPHV77Z61RX566\"\n",
    "\n",
    "# web = \"https://www.audible.com/search\"\n",
    "path = r'C:\\Users\\Aved Debbarma\\Downloads\\chromedriver\\chromedriver-win64\\chromedriver.exe'\n",
    "driver = webdriver.Chrome(path, options = options)\n",
    "driver.get(web)\n",
    "driver.maximize_window()\n",
    "\n",
    "# Pagination 1\n",
    "pagination = driver.find_element_by_xpath('//ul[contains(@class, \"pagingElements\")]')  # locating pagination bar\n",
    "pages = pagination.find_elements_by_tag_name('li')  # locating each page displayed in the pagination bar\n",
    "last_page = int(pages[-2].text)  # getting the last page with negative indexing (starts from where the array ends)\n",
    "\n",
    "book_title = []\n",
    "book_author = []\n",
    "book_length = []\n",
    "\n",
    "# Pagination 2\n",
    "current_page = 1   # this is the page the bot starts scraping\n",
    "\n",
    "# The while loop below will work until the the bot reaches the last page of the website, then it will break\n",
    "while current_page <= last_page:\n",
    "    time.sleep(2)  # let the page render correctly\n",
    "    container = driver.find_element_by_class_name('adbl-impression-container ')\n",
    "    products = container.find_elements_by_xpath('.//li[contains(@class, \"productListItem\")]')\n",
    "    # products = container.find_elements_by_xpath('./li')\n",
    "\n",
    "    for product in products:\n",
    "        book_title.append(product.find_element_by_xpath('.//h3[contains(@class, \"bc-heading\")]').text)\n",
    "        book_author.append(product.find_element_by_xpath('.//li[contains(@class, \"authorLabel\")]').text)\n",
    "        book_length.append(product.find_element_by_xpath('.//li[contains(@class, \"runtimeLabel\")]').text)\n",
    "\n",
    "    current_page = current_page + 1  # increment the current_page by 1 after the data is extracted\n",
    "    # Locating the next_page button and clicking on it. If the element isn't on the website, pass to the next iteration\n",
    "    try:\n",
    "        next_page = driver.find_element_by_xpath('.//span[contains(@class , \"nextButton\")]')\n",
    "        next_page.click()\n",
    "    except:\n",
    "        pass\n",
    "\n",
    "driver.quit()\n",
    "\n",
    "df_books = pd.DataFrame({'title': book_title, 'author': book_author, 'length': book_length})\n",
    "df_books.to_csv('books_pagination.csv', index=False)\n"
   ]
  },
  {
   "cell_type": "markdown",
   "id": "12153886-d135-4882-bb7d-4784da30922d",
   "metadata": {},
   "source": [
    "# # Note book  2 "
   ]
  },
  {
   "cell_type": "code",
   "execution_count": 5,
   "id": "eec3b80e-b5fe-484d-a171-156a9d80b76c",
   "metadata": {},
   "outputs": [
    {
     "ename": "NoSuchElementException",
     "evalue": "Message: no such element: Unable to locate element: {\"method\":\"css selector\",\"selector\":\".adbl-impression-container \"}\n  (Session info: chrome=127.0.6533.122); For documentation on this error, please visit: https://www.selenium.dev/documentation/webdriver/troubleshooting/errors#no-such-element-exception\nStacktrace:\n\tGetHandleVerifier [0x00007FF6D0869642+30946]\n\t(No symbol) [0x00007FF6D081E3D9]\n\t(No symbol) [0x00007FF6D0716FDA]\n\t(No symbol) [0x00007FF6D076822C]\n\t(No symbol) [0x00007FF6D076850C]\n\t(No symbol) [0x00007FF6D07ADCB7]\n\t(No symbol) [0x00007FF6D078CAAF]\n\t(No symbol) [0x00007FF6D07AB041]\n\t(No symbol) [0x00007FF6D078C813]\n\t(No symbol) [0x00007FF6D075A6E5]\n\t(No symbol) [0x00007FF6D075B021]\n\tGetHandleVerifier [0x00007FF6D099F84D+1301229]\n\tGetHandleVerifier [0x00007FF6D09ABDC7+1351783]\n\tGetHandleVerifier [0x00007FF6D09A2A13+1313971]\n\tGetHandleVerifier [0x00007FF6D089DD16+245686]\n\t(No symbol) [0x00007FF6D082759F]\n\t(No symbol) [0x00007FF6D0823814]\n\t(No symbol) [0x00007FF6D08239A2]\n\t(No symbol) [0x00007FF6D081A3FF]\n\tBaseThreadInitThunk [0x00007FFFDE2B257D+29]\n\tRtlUserThreadStart [0x00007FFFDF4CAF28+40]\n",
     "output_type": "error",
     "traceback": [
      "\u001b[1;31m---------------------------------------------------------------------------\u001b[0m",
      "\u001b[1;31mNoSuchElementException\u001b[0m                    Traceback (most recent call last)",
      "Cell \u001b[1;32mIn[5], line 34\u001b[0m\n\u001b[0;32m     32\u001b[0m \u001b[38;5;28;01mwhile\u001b[39;00m current_page \u001b[38;5;241m<\u001b[39m\u001b[38;5;241m=\u001b[39m last_page:\n\u001b[0;32m     33\u001b[0m     time\u001b[38;5;241m.\u001b[39msleep(\u001b[38;5;241m2\u001b[39m)  \u001b[38;5;66;03m# let the page render correctly\u001b[39;00m\n\u001b[1;32m---> 34\u001b[0m     container \u001b[38;5;241m=\u001b[39m \u001b[43mdriver\u001b[49m\u001b[38;5;241;43m.\u001b[39;49m\u001b[43mfind_element\u001b[49m\u001b[43m(\u001b[49m\u001b[43mBy\u001b[49m\u001b[38;5;241;43m.\u001b[39;49m\u001b[43mCLASS_NAME\u001b[49m\u001b[43m,\u001b[49m\u001b[43m \u001b[49m\u001b[38;5;124;43m'\u001b[39;49m\u001b[38;5;124;43madbl-impression-container \u001b[39;49m\u001b[38;5;124;43m'\u001b[39;49m\u001b[43m)\u001b[49m\n\u001b[0;32m     35\u001b[0m     products \u001b[38;5;241m=\u001b[39m container\u001b[38;5;241m.\u001b[39mfind_elements(By\u001b[38;5;241m.\u001b[39mXPATH, \u001b[38;5;124m'\u001b[39m\u001b[38;5;124m.//li[contains(@class, \u001b[39m\u001b[38;5;124m\"\u001b[39m\u001b[38;5;124mproductListItem\u001b[39m\u001b[38;5;124m\"\u001b[39m\u001b[38;5;124m)]\u001b[39m\u001b[38;5;124m'\u001b[39m)\n\u001b[0;32m     37\u001b[0m     \u001b[38;5;28;01mfor\u001b[39;00m product \u001b[38;5;129;01min\u001b[39;00m products:\n",
      "File \u001b[1;32m~\\AppData\\Local\\Programs\\Python\\Python312\\Lib\\site-packages\\selenium\\webdriver\\remote\\webdriver.py:748\u001b[0m, in \u001b[0;36mWebDriver.find_element\u001b[1;34m(self, by, value)\u001b[0m\n\u001b[0;32m    745\u001b[0m     by \u001b[38;5;241m=\u001b[39m By\u001b[38;5;241m.\u001b[39mCSS_SELECTOR\n\u001b[0;32m    746\u001b[0m     value \u001b[38;5;241m=\u001b[39m \u001b[38;5;124mf\u001b[39m\u001b[38;5;124m'\u001b[39m\u001b[38;5;124m[name=\u001b[39m\u001b[38;5;124m\"\u001b[39m\u001b[38;5;132;01m{\u001b[39;00mvalue\u001b[38;5;132;01m}\u001b[39;00m\u001b[38;5;124m\"\u001b[39m\u001b[38;5;124m]\u001b[39m\u001b[38;5;124m'\u001b[39m\n\u001b[1;32m--> 748\u001b[0m \u001b[38;5;28;01mreturn\u001b[39;00m \u001b[38;5;28;43mself\u001b[39;49m\u001b[38;5;241;43m.\u001b[39;49m\u001b[43mexecute\u001b[49m\u001b[43m(\u001b[49m\u001b[43mCommand\u001b[49m\u001b[38;5;241;43m.\u001b[39;49m\u001b[43mFIND_ELEMENT\u001b[49m\u001b[43m,\u001b[49m\u001b[43m \u001b[49m\u001b[43m{\u001b[49m\u001b[38;5;124;43m\"\u001b[39;49m\u001b[38;5;124;43musing\u001b[39;49m\u001b[38;5;124;43m\"\u001b[39;49m\u001b[43m:\u001b[49m\u001b[43m \u001b[49m\u001b[43mby\u001b[49m\u001b[43m,\u001b[49m\u001b[43m \u001b[49m\u001b[38;5;124;43m\"\u001b[39;49m\u001b[38;5;124;43mvalue\u001b[39;49m\u001b[38;5;124;43m\"\u001b[39;49m\u001b[43m:\u001b[49m\u001b[43m \u001b[49m\u001b[43mvalue\u001b[49m\u001b[43m}\u001b[49m\u001b[43m)\u001b[49m[\u001b[38;5;124m\"\u001b[39m\u001b[38;5;124mvalue\u001b[39m\u001b[38;5;124m\"\u001b[39m]\n",
      "File \u001b[1;32m~\\AppData\\Local\\Programs\\Python\\Python312\\Lib\\site-packages\\selenium\\webdriver\\remote\\webdriver.py:354\u001b[0m, in \u001b[0;36mWebDriver.execute\u001b[1;34m(self, driver_command, params)\u001b[0m\n\u001b[0;32m    352\u001b[0m response \u001b[38;5;241m=\u001b[39m \u001b[38;5;28mself\u001b[39m\u001b[38;5;241m.\u001b[39mcommand_executor\u001b[38;5;241m.\u001b[39mexecute(driver_command, params)\n\u001b[0;32m    353\u001b[0m \u001b[38;5;28;01mif\u001b[39;00m response:\n\u001b[1;32m--> 354\u001b[0m     \u001b[38;5;28;43mself\u001b[39;49m\u001b[38;5;241;43m.\u001b[39;49m\u001b[43merror_handler\u001b[49m\u001b[38;5;241;43m.\u001b[39;49m\u001b[43mcheck_response\u001b[49m\u001b[43m(\u001b[49m\u001b[43mresponse\u001b[49m\u001b[43m)\u001b[49m\n\u001b[0;32m    355\u001b[0m     response[\u001b[38;5;124m\"\u001b[39m\u001b[38;5;124mvalue\u001b[39m\u001b[38;5;124m\"\u001b[39m] \u001b[38;5;241m=\u001b[39m \u001b[38;5;28mself\u001b[39m\u001b[38;5;241m.\u001b[39m_unwrap_value(response\u001b[38;5;241m.\u001b[39mget(\u001b[38;5;124m\"\u001b[39m\u001b[38;5;124mvalue\u001b[39m\u001b[38;5;124m\"\u001b[39m, \u001b[38;5;28;01mNone\u001b[39;00m))\n\u001b[0;32m    356\u001b[0m     \u001b[38;5;28;01mreturn\u001b[39;00m response\n",
      "File \u001b[1;32m~\\AppData\\Local\\Programs\\Python\\Python312\\Lib\\site-packages\\selenium\\webdriver\\remote\\errorhandler.py:229\u001b[0m, in \u001b[0;36mErrorHandler.check_response\u001b[1;34m(self, response)\u001b[0m\n\u001b[0;32m    227\u001b[0m         alert_text \u001b[38;5;241m=\u001b[39m value[\u001b[38;5;124m\"\u001b[39m\u001b[38;5;124malert\u001b[39m\u001b[38;5;124m\"\u001b[39m]\u001b[38;5;241m.\u001b[39mget(\u001b[38;5;124m\"\u001b[39m\u001b[38;5;124mtext\u001b[39m\u001b[38;5;124m\"\u001b[39m)\n\u001b[0;32m    228\u001b[0m     \u001b[38;5;28;01mraise\u001b[39;00m exception_class(message, screen, stacktrace, alert_text)  \u001b[38;5;66;03m# type: ignore[call-arg]  # mypy is not smart enough here\u001b[39;00m\n\u001b[1;32m--> 229\u001b[0m \u001b[38;5;28;01mraise\u001b[39;00m exception_class(message, screen, stacktrace)\n",
      "\u001b[1;31mNoSuchElementException\u001b[0m: Message: no such element: Unable to locate element: {\"method\":\"css selector\",\"selector\":\".adbl-impression-container \"}\n  (Session info: chrome=127.0.6533.122); For documentation on this error, please visit: https://www.selenium.dev/documentation/webdriver/troubleshooting/errors#no-such-element-exception\nStacktrace:\n\tGetHandleVerifier [0x00007FF6D0869642+30946]\n\t(No symbol) [0x00007FF6D081E3D9]\n\t(No symbol) [0x00007FF6D0716FDA]\n\t(No symbol) [0x00007FF6D076822C]\n\t(No symbol) [0x00007FF6D076850C]\n\t(No symbol) [0x00007FF6D07ADCB7]\n\t(No symbol) [0x00007FF6D078CAAF]\n\t(No symbol) [0x00007FF6D07AB041]\n\t(No symbol) [0x00007FF6D078C813]\n\t(No symbol) [0x00007FF6D075A6E5]\n\t(No symbol) [0x00007FF6D075B021]\n\tGetHandleVerifier [0x00007FF6D099F84D+1301229]\n\tGetHandleVerifier [0x00007FF6D09ABDC7+1351783]\n\tGetHandleVerifier [0x00007FF6D09A2A13+1313971]\n\tGetHandleVerifier [0x00007FF6D089DD16+245686]\n\t(No symbol) [0x00007FF6D082759F]\n\t(No symbol) [0x00007FF6D0823814]\n\t(No symbol) [0x00007FF6D08239A2]\n\t(No symbol) [0x00007FF6D081A3FF]\n\tBaseThreadInitThunk [0x00007FFFDE2B257D+29]\n\tRtlUserThreadStart [0x00007FFFDF4CAF28+40]\n"
     ]
    }
   ],
   "source": [
    "from selenium import webdriver\n",
    "from selenium.webdriver.chrome.service import Service\n",
    "from selenium.webdriver.support.ui import Select\n",
    "from selenium.webdriver.chrome.options import Options \n",
    "from selenium.webdriver.common.by import By\n",
    "import pandas as pd\n",
    "import time\n",
    "\n",
    "options = Options()\n",
    "options.headless = False\n",
    "web = \"https://www.audible.com/adblbestsellers?ref=a_search_t1_navTop_pl0cg1c0r0&pf_rd_p=adc4b13b-d074-4e1c-ac46-9f54aa53072b&pf_rd_r=1F7DV0MPHV77Z61RX566\"\n",
    "\n",
    "path = r'C:\\Users\\Aved Debbarma\\Downloads\\chromedriver\\chromedriver-win64\\chromedriver.exe'\n",
    "service = Service(executable_path=path)\n",
    "driver = webdriver.Chrome(service=service, options=options)\n",
    "driver.get(web)\n",
    "driver.maximize_window()\n",
    "\n",
    "# Pagination 1\n",
    "pagination = driver.find_element(By.XPATH, '//ul[contains(@class, \"pagingElements\")]')  # locating pagination bar\n",
    "pages = pagination.find_elements(By.TAG_NAME, 'li')  # locating each page displayed in the pagination bar\n",
    "last_page = int(pages[-2].text)  # getting the last page with negative indexing (starts from where the array ends)\n",
    "\n",
    "book_title = []\n",
    "book_author = []\n",
    "book_length = []\n",
    "\n",
    "# Pagination 2\n",
    "current_page = 1   # this is the page the bot starts scraping\n",
    "\n",
    "# The while loop below will work until the bot reaches the last page of the website, then it will break\n",
    "while current_page <= last_page:\n",
    "    time.sleep(2)  # let the page render correctly\n",
    "    container = driver.find_element(By.CLASS_NAME, 'adbl-impression-container ')\n",
    "    products = container.find_elements(By.XPATH, './/li[contains(@class, \"productListItem\")]')\n",
    "\n",
    "    for product in products:\n",
    "        book_title.append(product.find_element(By.XPATH, './/h3[contains(@class, \"bc-heading\")]').text)\n",
    "        book_author.append(product.find_element(By.XPATH, './/li[contains(@class, \"authorLabel\")]').text)\n",
    "        book_length.append(product.find_element(By.XPATH, './/li[contains(@class, \"runtimeLabel\")]').text)\n",
    "\n",
    "    current_page += 1  # increment the current_page by 1 after the data is extracted\n",
    "    # Locating the next_page button and clicking on it. If the element isn't on the website, pass to the next iteration\n",
    "    try:\n",
    "        next_page = driver.find_element(By.XPATH, './/span[contains(@class , \"nextButton\")]')\n",
    "        next_page.click()\n",
    "    except:\n",
    "        pass\n",
    "\n",
    "driver.quit()\n",
    "\n",
    "df_books = pd.DataFrame({'title': book_title, 'author': book_author, 'length': book_length})\n",
    "df_books.to_csv('books_pagination.csv', index=False)\n"
   ]
  },
  {
   "cell_type": "code",
   "execution_count": null,
   "id": "0062507b-80d3-4558-a6cd-b81891564b3c",
   "metadata": {},
   "outputs": [],
   "source": [
    "book_author,book_length,book_title"
   ]
  },
  {
   "cell_type": "markdown",
   "id": "933682f0-6ac5-495e-b335-9664bb20058a",
   "metadata": {},
   "source": [
    "#  Note book  3"
   ]
  },
  {
   "cell_type": "code",
   "execution_count": null,
   "id": "4ad5fce2-2a83-4985-92e4-9b4474b04581",
   "metadata": {},
   "outputs": [],
   "source": [
    "from selenium import webdriver\n",
    "from selenium.webdriver.chrome.service import Service\n",
    "from selenium.webdriver.support.ui import Select\n",
    "from selenium.webdriver.chrome.options import Options \n",
    "from selenium.webdriver.common.by import By\n",
    "import pandas as pd\n",
    "import time\n",
    "\n",
    "options = Options()\n",
    "options.headless = False\n",
    "web = \"https://www.audible.com/adblbestsellers?ref=a_search_t1_navTop_pl0cg1c0r0&pf_rd_p=adc4b13b-d074-4e1c-ac46-9f54aa53072b&pf_rd_r=1F7DV0MPHV77Z61RX566\"\n",
    "\n",
    "path = r'C:\\Users\\Aved Debbarma\\Downloads\\chromedriver\\chromedriver-win64\\chromedriver.exe'\n",
    "service = Service(executable_path=path)\n",
    "driver = webdriver.Chrome(service=service, options=options)\n",
    "driver.get(web)\n",
    "driver.maximize_window()\n",
    "\n",
    "# Pagination 1\n",
    "pagination = driver.find_element(By.XPATH, '//ul[contains(@class, \"pagingElements\")]')  # locating pagination bar\n",
    "pages = pagination.find_elements(By.TAG_NAME, 'li')  # locating each page displayed in the pagination bar\n",
    "last_page = int(pages[-2].text)  # getting the last page with negative indexing (starts from where the array ends)\n",
    "\n",
    "book_title = []\n",
    "book_author = []\n",
    "book_length = []\n",
    "\n",
    "# Pagination 2\n",
    "current_page = 1   # this is the page the bot starts scraping\n",
    "\n",
    "# The while loop below will work until the bot reaches the last page of the website, then it will break\n",
    "while current_page <= last_page:\n",
    "    time.sleep(2)  # let the page render correctly\n",
    "    container = driver.find_element(By.CLASS_NAME, 'adbl-impression-container ')\n",
    "    products = container.find_elements(By.XPATH, './/li[contains(@class, \"productListItem\")]')\n",
    "\n",
    "    for product in products:\n",
    "        book_title.append(product.find_element(By.XPATH, './/h3[contains(@class, \"bc-heading\")]').text)\n",
    "        book_author.append(product.find_element(By.XPATH, './/li[contains(@class, \"authorLabel\")]').text)\n",
    "        book_length.append(product.find_element(By.XPATH, './/li[contains(@class, \"runtimeLabel\")]').text)\n",
    "\n",
    "    current_page += 1  # increment the current_page by 1 after the data is extracted\n",
    "    # Locating the next_page button and clicking on it. If the element isn't on the website, pass to the next iteration\n",
    "    try:\n",
    "        next_page = driver.find_element(By.XPATH, './/span[contains(@class , \"nextButton\")]')\n",
    "        next_page.click()\n",
    "    except:\n",
    "        pass\n",
    "\n",
    "driver.quit()\n",
    "\n",
    "df_books = pd.DataFrame({'title': book_title, 'author': book_author, 'length': book_length})\n",
    "df_books.to_csv('books_pagination.csv', index=False)\n"
   ]
  },
  {
   "cell_type": "code",
   "execution_count": null,
   "id": "5034a02a-f137-415d-b366-01a2e2633804",
   "metadata": {},
   "outputs": [],
   "source": [
    "book_author,book_length,book_title"
   ]
  },
  {
   "cell_type": "markdown",
   "id": "a2a96694-2a47-4b6e-9010-0d83e6e3fc00",
   "metadata": {},
   "source": [
    "# Note book  4 "
   ]
  },
  {
   "cell_type": "code",
   "execution_count": 14,
   "id": "7dad691d-734c-4b5b-89a3-125b1243a419",
   "metadata": {},
   "outputs": [
    {
     "ename": "TypeError",
     "evalue": "presence_of_all_elements_located() takes 1 positional argument but 2 were given",
     "output_type": "error",
     "traceback": [
      "\u001b[1;31m---------------------------------------------------------------------------\u001b[0m",
      "\u001b[1;31mTypeError\u001b[0m                                 Traceback (most recent call last)",
      "Cell \u001b[1;32mIn[14], line 46\u001b[0m\n\u001b[0;32m     42\u001b[0m container \u001b[38;5;241m=\u001b[39m WebDriverWait(driver, \u001b[38;5;241m5\u001b[39m)\u001b[38;5;241m.\u001b[39muntil(EC\u001b[38;5;241m.\u001b[39mpresence_of_all_elements_located((By\u001b[38;5;241m.\u001b[39mCLASS_NAME, \u001b[38;5;124m'\u001b[39m\u001b[38;5;124madbl-impression-container\u001b[39m\u001b[38;5;124m'\u001b[39m))) \u001b[38;5;66;03m#updated \u001b[39;00m\n\u001b[0;32m     43\u001b[0m \u001b[38;5;66;03m# container = driver.find_element(By.CLASS_NAME, 'adbl-impression-container ') changed with above line\u001b[39;00m\n\u001b[0;32m     44\u001b[0m \n\u001b[0;32m     45\u001b[0m \u001b[38;5;66;03m# products = container.find_elements(By.XPATH, './li')\u001b[39;00m\n\u001b[1;32m---> 46\u001b[0m products \u001b[38;5;241m=\u001b[39m WebDriverWait(container, \u001b[38;5;241m5\u001b[39m)\u001b[38;5;241m.\u001b[39muntil(\u001b[43mEC\u001b[49m\u001b[38;5;241;43m.\u001b[39;49m\u001b[43mpresence_of_all_elements_located\u001b[49m\u001b[43m(\u001b[49m\u001b[43mBy\u001b[49m\u001b[38;5;241;43m.\u001b[39;49m\u001b[43mXPATH\u001b[49m\u001b[43m,\u001b[49m\u001b[43m \u001b[49m\u001b[38;5;124;43m'\u001b[39;49m\u001b[38;5;124;43m./li\u001b[39;49m\u001b[38;5;124;43m'\u001b[39;49m\u001b[43m)\u001b[49m)\n\u001b[0;32m     48\u001b[0m \u001b[38;5;28;01mfor\u001b[39;00m product \u001b[38;5;129;01min\u001b[39;00m products:\n\u001b[0;32m     49\u001b[0m     book_title\u001b[38;5;241m.\u001b[39mappend(product\u001b[38;5;241m.\u001b[39mfind_element(By\u001b[38;5;241m.\u001b[39mXPATH, \u001b[38;5;124m'\u001b[39m\u001b[38;5;124m.//h3[contains(@class, \u001b[39m\u001b[38;5;124m\"\u001b[39m\u001b[38;5;124mbc-heading\u001b[39m\u001b[38;5;124m\"\u001b[39m\u001b[38;5;124m)]\u001b[39m\u001b[38;5;124m'\u001b[39m)\u001b[38;5;241m.\u001b[39mtext)\n",
      "\u001b[1;31mTypeError\u001b[0m: presence_of_all_elements_located() takes 1 positional argument but 2 were given"
     ]
    }
   ],
   "source": [
    "# new libraries added \n",
    "# *by \n",
    "# *exprected_conditions\n",
    "\n",
    "\n",
    "from selenium import webdriver\n",
    "from selenium.webdriver.chrome.service import Service\n",
    "from selenium.webdriver.support.ui import Select\n",
    "from selenium.webdriver.chrome.options import Options \n",
    "from selenium.webdriver.common.by import By\n",
    "from selenium.webdriver.support import expected_conditions as EC\n",
    "from selenium.webdriver.support.ui import WebDriverWait\n",
    "from selenium.webdriver.common.by import By\n",
    "import pandas as pd\n",
    "import time\n",
    "\n",
    "options = Options()\n",
    "options.headless = False\n",
    "web = \"https://www.audible.com/adblbestsellers?ref=a_search_t1_navTop_pl0cg1c0r0&pf_rd_p=adc4b13b-d074-4e1c-ac46-9f54aa53072b&pf_rd_r=1F7DV0MPHV77Z61RX566\"\n",
    "\n",
    "path = r'C:\\Users\\Aved Debbarma\\Downloads\\chromedriver\\chromedriver-win64\\chromedriver.exe'\n",
    "service = Service(executable_path=path)\n",
    "driver = webdriver.Chrome(service=service, options=options)\n",
    "driver.get(web)\n",
    "driver.maximize_window()\n",
    "\n",
    "# Pagination 1\n",
    "pagination = driver.find_element(By.XPATH, '//ul[contains(@class, \"pagingElements\")]')  # locating pagination bar\n",
    "pages = pagination.find_elements(By.TAG_NAME, 'li')  # locating each page displayed in the pagination bar\n",
    "last_page = int(pages[-2].text)  \n",
    "\n",
    "book_title = []\n",
    "book_author = []\n",
    "book_length = []\n",
    "\n",
    "# Pagination 2\n",
    "current_page = 1   # this is the page the bot starts scraping\n",
    "\n",
    "while current_page <= last_page:\n",
    "    # time.sleep(2)\n",
    "   \n",
    "    container = WebDriverWait(driver, 5).until(EC.presence_of_all_elements_located((By.CLASS_NAME, 'adbl-impression-container'))) #updated \n",
    "    # container = driver.find_element(By.CLASS_NAME, 'adbl-impression-container ') changed with above line\n",
    "    \n",
    "    # products = container.find_elements(By.XPATH, './li')\n",
    "    products = WebDriverWait(container, 5).until(EC.presence_of_all_elements_located(By.XPATH, './li'))\n",
    "\n",
    "    for product in products:\n",
    "        book_title.append(product.find_element(By.XPATH, './/h3[contains(@class, \"bc-heading\")]').text)\n",
    "        book_author.append(product.find_element(By.XPATH, './/li[contains(@class, \"authorLabel\")]').text)\n",
    "        book_length.append(product.find_element(By.XPATH, './/li[contains(@class, \"runtimeLabel\")]').text)\n",
    "\n",
    "    current_page += 1  \n",
    "    try:\n",
    "        next_page = driver.find_element(By.XPATH, './/span[contains(@class , \"nextButton\")]')\n",
    "        next_page.click()\n",
    "    except:\n",
    "        pass\n",
    "\n",
    "driver.quit()\n",
    "\n",
    "df_books = pd.DataFrame({'title': book_title, 'author': book_author, 'length': book_length})\n",
    "df_books.to_csv('books_pagination.csv', index=False)\n"
   ]
  },
  {
   "cell_type": "code",
   "execution_count": null,
   "id": "97d0783e-1e8f-4c17-9804-9dd63d739630",
   "metadata": {},
   "outputs": [],
   "source": [
    "\n"
   ]
  },
  {
   "cell_type": "code",
   "execution_count": 6,
   "id": "3c248c5d-c8a4-449a-b779-c9fc2713f6e2",
   "metadata": {},
   "outputs": [
    {
     "name": "stdout",
     "output_type": "stream",
     "text": [
      "hello\n"
     ]
    }
   ],
   "source": [
    "print(\"hello\")"
   ]
  },
  {
   "cell_type": "code",
   "execution_count": null,
   "id": "6398df64-9313-4109-a1fb-3e449ad7b748",
   "metadata": {},
   "outputs": [],
   "source": []
  }
 ],
 "metadata": {
  "kernelspec": {
   "display_name": "Python 3 (ipykernel)",
   "language": "python",
   "name": "python3"
  },
  "language_info": {
   "codemirror_mode": {
    "name": "ipython",
    "version": 3
   },
   "file_extension": ".py",
   "mimetype": "text/x-python",
   "name": "python",
   "nbconvert_exporter": "python",
   "pygments_lexer": "ipython3",
   "version": "3.12.5"
  }
 },
 "nbformat": 4,
 "nbformat_minor": 5
}
